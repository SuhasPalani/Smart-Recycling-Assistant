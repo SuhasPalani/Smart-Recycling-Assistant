{
  "nbformat": 4,
  "nbformat_minor": 0,
  "metadata": {
    "colab": {
      "provenance": []
    },
    "kernelspec": {
      "name": "python3",
      "display_name": "Python 3"
    },
    "language_info": {
      "name": "python"
    }
  },
  "cells": [
    {
      "cell_type": "code",
      "execution_count": 1,
      "metadata": {
        "colab": {
          "base_uri": "https://localhost:8080/"
        },
        "id": "VGuwwzy4C-50",
        "outputId": "f5becbce-4060-49a3-d17b-1fcd8d2530f7"
      },
      "outputs": [
        {
          "output_type": "stream",
          "name": "stdout",
          "text": [
            "Downloading from https://www.kaggle.com/api/v1/datasets/download/reyhanwiranugraha/real-image-dataset?dataset_version_number=2...\n"
          ]
        },
        {
          "output_type": "stream",
          "name": "stderr",
          "text": [
            "100%|██████████| 2.90G/2.90G [00:33<00:00, 92.6MB/s]"
          ]
        },
        {
          "output_type": "stream",
          "name": "stdout",
          "text": [
            "Extracting files...\n"
          ]
        },
        {
          "output_type": "stream",
          "name": "stderr",
          "text": [
            "\n"
          ]
        },
        {
          "output_type": "stream",
          "name": "stdout",
          "text": [
            "Path to dataset files: /root/.cache/kagglehub/datasets/reyhanwiranugraha/real-image-dataset/versions/2\n"
          ]
        }
      ],
      "source": [
        "import kagglehub\n",
        "\n",
        "# Download latest version\n",
        "path = kagglehub.dataset_download(\"reyhanwiranugraha/real-image-dataset\")\n",
        "\n",
        "print(\"Path to dataset files:\", path)\n"
      ]
    },
    {
      "cell_type": "code",
      "source": [
        "import os\n",
        "import tensorflow as tf\n",
        "from tensorflow.keras.models import Sequential\n",
        "from tensorflow.keras.layers import Conv2D, MaxPooling2D, Flatten, Dense\n",
        "from tensorflow.keras.preprocessing.image import ImageDataGenerator\n",
        "import matplotlib.pyplot as plt\n",
        "import numpy as np\n"
      ],
      "metadata": {
        "id": "IFx5oJ_ZEDXA"
      },
      "execution_count": 5,
      "outputs": []
    },
    {
      "cell_type": "code",
      "source": [
        "print(path)"
      ],
      "metadata": {
        "colab": {
          "base_uri": "https://localhost:8080/"
        },
        "id": "8t4xi2cFFXdY",
        "outputId": "f372aac2-68ae-4233-de64-64e66d715b94"
      },
      "execution_count": 9,
      "outputs": [
        {
          "output_type": "stream",
          "name": "stdout",
          "text": [
            "/root/.cache/kagglehub/datasets/reyhanwiranugraha/real-image-dataset/versions/2\n"
          ]
        }
      ]
    },
    {
      "cell_type": "code",
      "source": [
        "# Define dataset path\n",
        "dataset_path = path\n",
        "\n",
        "# Define image dimensions\n",
        "img_height, img_width = 224, 224\n",
        "batch_size = 32\n"
      ],
      "metadata": {
        "id": "Tyeiq9m-FFwa"
      },
      "execution_count": 10,
      "outputs": []
    },
    {
      "cell_type": "code",
      "source": [
        "import os\n",
        "\n",
        "dataset_path = \"/root/.cache/kagglehub/datasets/reyhanwiranugraha/real-image-dataset/versions/2\"\n",
        "\n",
        "# Print the dataset folder structure\n",
        "for root, dirs, files in os.walk(dataset_path):\n",
        "    print(f\"📂 {root}\")\n",
        "    for d in dirs:\n",
        "        print(f\"   📁 {d}\")\n",
        "    for f in files[:5]:  # Show only first 5 files\n",
        "        print(f\"   📄 {f}\")\n",
        "    print(\"\\n\")  # Newline for readability\n"
      ],
      "metadata": {
        "colab": {
          "base_uri": "https://localhost:8080/"
        },
        "id": "ZM1Z0h9RFtEA",
        "outputId": "856a6203-6e77-42d3-fd24-515cbb7cadda"
      },
      "execution_count": 12,
      "outputs": [
        {
          "output_type": "stream",
          "name": "stdout",
          "text": [
            "📂 /root/.cache/kagglehub/datasets/reyhanwiranugraha/real-image-dataset/versions/2\n",
            "   📁 Real-Image datasets\n",
            "   📁 Real-Image-dataset_balanced\n",
            "\n",
            "\n",
            "📂 /root/.cache/kagglehub/datasets/reyhanwiranugraha/real-image-dataset/versions/2/Real-Image datasets\n",
            "   📁 Real-Image datasets\n",
            "\n",
            "\n",
            "📂 /root/.cache/kagglehub/datasets/reyhanwiranugraha/real-image-dataset/versions/2/Real-Image datasets/Real-Image datasets\n",
            "   📁 set\n",
            "\n",
            "\n",
            "📂 /root/.cache/kagglehub/datasets/reyhanwiranugraha/real-image-dataset/versions/2/Real-Image datasets/Real-Image datasets/set\n",
            "   📁 Paper\n",
            "   📁 Food Organics\n",
            "   📁 Miscellaneous Trash\n",
            "   📁 Mixed\n",
            "   📁 Plastic\n",
            "   📁 Rubber\n",
            "   📁 Textile\n",
            "   📁 Cardboard\n",
            "   📁 Glass\n",
            "   📁 Vegetation\n",
            "   📁 Porcelain\n",
            "   📁 Metal\n",
            "\n",
            "\n",
            "📂 /root/.cache/kagglehub/datasets/reyhanwiranugraha/real-image-dataset/versions/2/Real-Image datasets/Real-Image datasets/set/Paper\n",
            "   📄 paper316.jpg\n",
            "   📄 Paper_31.jpg\n",
            "   📄 paper532.jpg\n",
            "   📄 Paper_84.jpg\n",
            "   📄 paper397.jpg\n",
            "\n",
            "\n",
            "📂 /root/.cache/kagglehub/datasets/reyhanwiranugraha/real-image-dataset/versions/2/Real-Image datasets/Real-Image datasets/set/Food Organics\n",
            "   📄 Food Organics_257.jpg\n",
            "   📄 Real_Food Organics_192.jpg\n",
            "   📄 Real_Food Organics_288.jpg\n",
            "   📄 Real_Food Organics_256.jpg\n",
            "   📄 Food Organics_114.jpg\n",
            "\n",
            "\n",
            "📂 /root/.cache/kagglehub/datasets/reyhanwiranugraha/real-image-dataset/versions/2/Real-Image datasets/Real-Image datasets/set/Miscellaneous Trash\n",
            "   📄 Miscellaneous Trash_395.jpg\n",
            "   📄 Miscellaneous Trash_392.jpg\n",
            "   📄 Miscellaneous Trash_384.jpg\n",
            "   📄 Miscellaneous Trash_357.jpg\n",
            "   📄 Miscellaneous Trash_314.jpg\n",
            "\n",
            "\n",
            "📂 /root/.cache/kagglehub/datasets/reyhanwiranugraha/real-image-dataset/versions/2/Real-Image datasets/Real-Image datasets/set/Mixed\n",
            "   📄 Miscellaneous Trash_432.jpg\n",
            "   📄 Miscellaneous Trash_433.jpg\n",
            "   📄 Miscellaneous Trash_40.jpg\n",
            "   📄 Miscellaneous Trash_310.jpg\n",
            "   📄 Miscellaneous Trash_298.jpg\n",
            "\n",
            "\n",
            "📂 /root/.cache/kagglehub/datasets/reyhanwiranugraha/real-image-dataset/versions/2/Real-Image datasets/Real-Image datasets/set/Plastic\n",
            "   📄 Plastic_286.jpg\n",
            "   📄 Plastic_472.jpg\n",
            "   📄 plastic37.jpg\n",
            "   📄 2 (152).jpg\n",
            "   📄 Plastic_651.jpg\n",
            "\n",
            "\n",
            "📂 /root/.cache/kagglehub/datasets/reyhanwiranugraha/real-image-dataset/versions/2/Real-Image datasets/Real-Image datasets/set/Rubber\n",
            "   📄 Miscellaneous Trash_182.jpg\n",
            "   📄 Miscellaneous Trash_183.jpg\n",
            "   📄 Miscellaneous Trash_191.jpg\n",
            "   📄 Miscellaneous Trash_189.jpg\n",
            "   📄 Miscellaneous Trash_249.jpg\n",
            "\n",
            "\n",
            "📂 /root/.cache/kagglehub/datasets/reyhanwiranugraha/real-image-dataset/versions/2/Real-Image datasets/Real-Image datasets/set/Textile\n",
            "   📄 Textile Trash_23.jpg\n",
            "   📄 Textile Trash_175.jpg\n",
            "   📄 Textile Trash_307.jpg\n",
            "   📄 Textile Trash_305.jpg\n",
            "   📄 Textile Trash_108.jpg\n",
            "\n",
            "\n",
            "📂 /root/.cache/kagglehub/datasets/reyhanwiranugraha/real-image-dataset/versions/2/Real-Image datasets/Real-Image datasets/set/Cardboard\n",
            "   📄 Real_Cardboard_376.jpg\n",
            "   📄 Real_Cardboard_375.jpg\n",
            "   📄 Real_Cardboard_97.jpg\n",
            "   📄 cardboard354.jpg\n",
            "   📄 Real_Cardboard_318.jpg\n",
            "\n",
            "\n",
            "📂 /root/.cache/kagglehub/datasets/reyhanwiranugraha/real-image-dataset/versions/2/Real-Image datasets/Real-Image datasets/set/Glass\n",
            "   📄 glass2.jpg\n",
            "   📄 Glass_363.jpg\n",
            "   📄 0 (88).jpg\n",
            "   📄 glass466.jpg\n",
            "   📄 0 (315).jpg\n",
            "\n",
            "\n",
            "📂 /root/.cache/kagglehub/datasets/reyhanwiranugraha/real-image-dataset/versions/2/Real-Image datasets/Real-Image datasets/set/Vegetation\n",
            "   📄 Vegetation_88.jpg\n",
            "   📄 Vegetation_179.jpg\n",
            "   📄 Vegetation_188.jpg\n",
            "   📄 Vegetation_154.jpg\n",
            "   📄 Vegetation_228.jpg\n",
            "\n",
            "\n",
            "📂 /root/.cache/kagglehub/datasets/reyhanwiranugraha/real-image-dataset/versions/2/Real-Image datasets/Real-Image datasets/set/Porcelain\n",
            "   📄 Miscellaneous Trash_240.jpg\n",
            "   📄 Miscellaneous Trash_236.jpg\n",
            "   📄 Miscellaneous Trash_238.jpg\n",
            "   📄 Miscellaneous Trash_205.jpg\n",
            "   📄 Miscellaneous Trash_208.jpg\n",
            "\n",
            "\n",
            "📂 /root/.cache/kagglehub/datasets/reyhanwiranugraha/real-image-dataset/versions/2/Real-Image datasets/Real-Image datasets/set/Metal\n",
            "   📄 Metal_522.jpg\n",
            "   📄 1 (67).jpg\n",
            "   📄 1 (239).jpg\n",
            "   📄 metal379.jpg\n",
            "   📄 1 (328).jpg\n",
            "\n",
            "\n",
            "📂 /root/.cache/kagglehub/datasets/reyhanwiranugraha/real-image-dataset/versions/2/Real-Image-dataset_balanced\n",
            "   📁 balanced\n",
            "\n",
            "\n",
            "📂 /root/.cache/kagglehub/datasets/reyhanwiranugraha/real-image-dataset/versions/2/Real-Image-dataset_balanced/balanced\n",
            "   📁 Paper\n",
            "   📁 Food Organics\n",
            "   📁 Miscellaneous Trash\n",
            "   📁 Mixed\n",
            "   📁 Plastic\n",
            "   📁 Rubber\n",
            "   📁 Textile\n",
            "   📁 Cardboard\n",
            "   📁 Glass\n",
            "   📁 Vegetation\n",
            "   📁 Porcelain\n",
            "   📁 Metal\n",
            "\n",
            "\n",
            "📂 /root/.cache/kagglehub/datasets/reyhanwiranugraha/real-image-dataset/versions/2/Real-Image-dataset_balanced/balanced/Paper\n",
            "   📄 paper255_211.jpg\n",
            "   📄 paper122_123.jpg\n",
            "   📄 Paper_302_579.jpg\n",
            "   📄 paper538_742.jpg\n",
            "   📄 paper25_17.jpg\n",
            "\n",
            "\n",
            "📂 /root/.cache/kagglehub/datasets/reyhanwiranugraha/real-image-dataset/versions/2/Real-Image-dataset_balanced/balanced/Food Organics\n",
            "   📄 Food Organics_296_547.jpg\n",
            "   📄 Real_Food Organics_176_1350.jpg\n",
            "   📄 Real_Food Organics_398_46.jpg\n",
            "   📄 Real_Food Organics_215_729.jpg\n",
            "   📄 Real_Food Organics_208_322.jpg\n",
            "\n",
            "\n",
            "📂 /root/.cache/kagglehub/datasets/reyhanwiranugraha/real-image-dataset/versions/2/Real-Image-dataset_balanced/balanced/Miscellaneous Trash\n",
            "   📄 Miscellaneous Trash_77_1557.jpg\n",
            "   📄 Miscellaneous Trash_78_787.jpg\n",
            "   📄 Miscellaneous Trash_399_117.jpg\n",
            "   📄 Miscellaneous Trash_392_1534.jpg\n",
            "   📄 Miscellaneous Trash_15_395.jpg\n",
            "\n",
            "\n",
            "📂 /root/.cache/kagglehub/datasets/reyhanwiranugraha/real-image-dataset/versions/2/Real-Image-dataset_balanced/balanced/Mixed\n",
            "   📄 Miscellaneous Trash_300_1381.jpg\n",
            "   📄 Miscellaneous Trash_309_906.jpg\n",
            "   📄 Miscellaneous Trash_179_518.jpg\n",
            "   📄 Miscellaneous Trash_47_1035.jpg\n",
            "   📄 Miscellaneous Trash_224_349.jpg\n",
            "\n",
            "\n",
            "📂 /root/.cache/kagglehub/datasets/reyhanwiranugraha/real-image-dataset/versions/2/Real-Image-dataset_balanced/balanced/Plastic\n",
            "   📄 Plastic_286.jpg\n",
            "   📄 Plastic_472.jpg\n",
            "   📄 plastic37.jpg\n",
            "   📄 2 (152).jpg\n",
            "   📄 Plastic_651.jpg\n",
            "\n",
            "\n",
            "📂 /root/.cache/kagglehub/datasets/reyhanwiranugraha/real-image-dataset/versions/2/Real-Image-dataset_balanced/balanced/Rubber\n",
            "   📄 Miscellaneous Trash_183_1221.jpg\n",
            "   📄 Miscellaneous Trash_334_569.jpg\n",
            "   📄 Miscellaneous Trash_148_765.jpg\n",
            "   📄 Miscellaneous Trash_181_556.jpg\n",
            "   📄 Miscellaneous Trash_215_1288.jpg\n",
            "\n",
            "\n",
            "📂 /root/.cache/kagglehub/datasets/reyhanwiranugraha/real-image-dataset/versions/2/Real-Image-dataset_balanced/balanced/Textile\n",
            "   📄 Textile Trash_21_867.jpg\n",
            "   📄 Textile Trash_90_130.jpg\n",
            "   📄 Textile Trash_19_1085.jpg\n",
            "   📄 Miscellaneous Trash_354_1494.jpg\n",
            "   📄 Textile Trash_33_281.jpg\n",
            "\n",
            "\n",
            "📂 /root/.cache/kagglehub/datasets/reyhanwiranugraha/real-image-dataset/versions/2/Real-Image-dataset_balanced/balanced/Cardboard\n",
            "   📄 cardboard228_101.jpg\n",
            "   📄 Cardboard_31_1010.jpg\n",
            "   📄 Real_Cardboard_378_499.jpg\n",
            "   📄 cardboard379_965.jpg\n",
            "   📄 Cardboard_137_1124.jpg\n",
            "\n",
            "\n",
            "📂 /root/.cache/kagglehub/datasets/reyhanwiranugraha/real-image-dataset/versions/2/Real-Image-dataset_balanced/balanced/Glass\n",
            "   📄 0 (263)_406.jpg\n",
            "   📄 glass98_254.jpg\n",
            "   📄 Glass_7_487.jpg\n",
            "   📄 Glass_7_190.jpg\n",
            "   📄 0 (238)_521.jpg\n",
            "\n",
            "\n",
            "📂 /root/.cache/kagglehub/datasets/reyhanwiranugraha/real-image-dataset/versions/2/Real-Image-dataset_balanced/balanced/Vegetation\n",
            "   📄 Vegetation_411_437.jpg\n",
            "   📄 Vegetation_74_454.jpg\n",
            "   📄 Vegetation_275_288.jpg\n",
            "   📄 Vegetation_274_564.jpg\n",
            "   📄 Vegetation_146_870.jpg\n",
            "\n",
            "\n",
            "📂 /root/.cache/kagglehub/datasets/reyhanwiranugraha/real-image-dataset/versions/2/Real-Image-dataset_balanced/balanced/Porcelain\n",
            "   📄 Miscellaneous Trash_202_349.jpg\n",
            "   📄 Miscellaneous Trash_208_601.jpg\n",
            "   📄 Miscellaneous Trash_208_769.jpg\n",
            "   📄 Miscellaneous Trash_208_1860.jpg\n",
            "   📄 Miscellaneous Trash_209_1323.jpg\n",
            "\n",
            "\n",
            "📂 /root/.cache/kagglehub/datasets/reyhanwiranugraha/real-image-dataset/versions/2/Real-Image-dataset_balanced/balanced/Metal\n",
            "   📄 Metal_693_449.jpg\n",
            "   📄 Metal_658_398.jpg\n",
            "   📄 Metal_652_383.jpg\n",
            "   📄 Metal_627_314.jpg\n",
            "   📄 Metal_591_178.jpg\n",
            "\n",
            "\n"
          ]
        }
      ]
    },
    {
      "cell_type": "code",
      "source": [
        "import os\n",
        "import tensorflow as tf\n",
        "from tensorflow.keras.preprocessing.image import ImageDataGenerator\n",
        "\n",
        "# Correct dataset path\n",
        "dataset_path = \"/root/.cache/kagglehub/datasets/reyhanwiranugraha/real-image-dataset/versions/2/Real-Image-dataset_balanced/balanced\"\n",
        "\n",
        "# Image dimensions and batch size\n",
        "img_height, img_width = 224, 224\n",
        "batch_size = 32\n",
        "\n",
        "# Data augmentation\n",
        "train_datagen = ImageDataGenerator(rescale=1.0 / 255,\n",
        "                                   shear_range=0.2,\n",
        "                                   zoom_range=0.2,\n",
        "                                   horizontal_flip=True,\n",
        "                                   validation_split=0.2)  # 80-20 train-validation split\n",
        "\n",
        "# Load training data\n",
        "train_generator = train_datagen.flow_from_directory(\n",
        "    dataset_path,\n",
        "    target_size=(img_height, img_width),\n",
        "    batch_size=batch_size,\n",
        "    class_mode='categorical',\n",
        "    subset='training')  # 80% for training\n",
        "\n",
        "# Load validation data\n",
        "validation_generator = train_datagen.flow_from_directory(\n",
        "    dataset_path,\n",
        "    target_size=(img_height, img_width),\n",
        "    batch_size=batch_size,\n",
        "    class_mode='categorical',\n",
        "    subset='validation')  # 20% for validation\n",
        "\n",
        "# Print class labels\n",
        "print(\"Class labels:\", train_generator.class_indices)\n"
      ],
      "metadata": {
        "colab": {
          "base_uri": "https://localhost:8080/"
        },
        "id": "vXdPN343GuVW",
        "outputId": "ce354d93-7ba3-47c8-84a5-37b887bccff4"
      },
      "execution_count": 16,
      "outputs": [
        {
          "output_type": "stream",
          "name": "stdout",
          "text": [
            "Found 14474 images belonging to 12 classes.\n",
            "Found 3612 images belonging to 12 classes.\n",
            "Class labels: {'Cardboard': 0, 'Food Organics': 1, 'Glass': 2, 'Metal': 3, 'Miscellaneous Trash': 4, 'Mixed': 5, 'Paper': 6, 'Plastic': 7, 'Porcelain': 8, 'Rubber': 9, 'Textile': 10, 'Vegetation': 11}\n"
          ]
        }
      ]
    },
    {
      "cell_type": "code",
      "source": [
        "# Build the model\n",
        "model = Sequential([\n",
        "    Conv2D(32, (3, 3), activation='relu', input_shape=(img_height, img_width, 3)),\n",
        "    MaxPooling2D((2, 2)),\n",
        "    Conv2D(64, (3, 3), activation='relu'),\n",
        "    MaxPooling2D((2, 2)),\n",
        "    Conv2D(128, (3, 3), activation='relu'),\n",
        "    MaxPooling2D((2, 2)),\n",
        "    Flatten(),\n",
        "    Dense(128, activation='relu'),\n",
        "    Dense(len(train_generator.class_indices), activation='softmax')\n",
        "])\n",
        "\n",
        "# Compile the model\n",
        "model.compile(optimizer='adam',\n",
        "              loss='categorical_crossentropy',\n",
        "              metrics=['accuracy'])\n"
      ],
      "metadata": {
        "colab": {
          "base_uri": "https://localhost:8080/"
        },
        "id": "wmrNcRMNG37I",
        "outputId": "9d725fd5-1411-46bd-f7cc-03937fa11955"
      },
      "execution_count": 17,
      "outputs": [
        {
          "output_type": "stream",
          "name": "stderr",
          "text": [
            "/usr/local/lib/python3.11/dist-packages/keras/src/layers/convolutional/base_conv.py:107: UserWarning: Do not pass an `input_shape`/`input_dim` argument to a layer. When using Sequential models, prefer using an `Input(shape)` object as the first layer in the model instead.\n",
            "  super().__init__(activity_regularizer=activity_regularizer, **kwargs)\n"
          ]
        }
      ]
    },
    {
      "cell_type": "code",
      "source": [
        "# Train the model\n",
        "history = model.fit(train_generator,\n",
        "                    epochs=1,\n",
        "                    validation_data=validation_generator)\n"
      ],
      "metadata": {
        "colab": {
          "base_uri": "https://localhost:8080/"
        },
        "id": "L1TZoOT0HJSp",
        "outputId": "e71227a9-0b20-4b06-94cb-cb801d951230"
      },
      "execution_count": 19,
      "outputs": [
        {
          "output_type": "stream",
          "name": "stdout",
          "text": [
            "\u001b[1m453/453\u001b[0m \u001b[32m━━━━━━━━━━━━━━━━━━━━\u001b[0m\u001b[37m\u001b[0m \u001b[1m1842s\u001b[0m 4s/step - accuracy: 0.6443 - loss: 1.1067 - val_accuracy: 0.4416 - val_loss: 1.7687\n"
          ]
        }
      ]
    },
    {
      "cell_type": "code",
      "source": [
        "# Save the model in the new format\n",
        "model.save('recycling_model.keras')\n"
      ],
      "metadata": {
        "id": "PyTNyHghHLUB"
      },
      "execution_count": 23,
      "outputs": []
    },
    {
      "cell_type": "code",
      "source": [
        "import os\n",
        "\n",
        "dataset_path = \"/root/.cache/kagglehub/datasets/reyhanwiranugraha/real-image-dataset/versions/2/Real-Image-dataset_balanced/balanced\"\n",
        "\n",
        "if os.path.exists(dataset_path):\n",
        "    print(\"✅ Dataset path exists!\")\n",
        "else:\n",
        "    print(\"❌ Dataset path does NOT exist!\")\n"
      ],
      "metadata": {
        "colab": {
          "base_uri": "https://localhost:8080/"
        },
        "id": "w8IaT7BbJkw1",
        "outputId": "879a5868-7745-4a2c-915a-0062bf618b8a"
      },
      "execution_count": 25,
      "outputs": [
        {
          "output_type": "stream",
          "name": "stdout",
          "text": [
            "✅ Dataset path exists!\n"
          ]
        }
      ]
    },
    {
      "cell_type": "code",
      "source": [
        "classes = os.listdir(dataset_path)\n",
        "print(\"Available classes:\", classes)\n",
        "\n",
        "if classes:\n",
        "    first_class = classes[0]  # Pick the first class folder\n",
        "    class_path = os.path.join(dataset_path, first_class)\n",
        "\n",
        "    # List image files in this class\n",
        "    images = os.listdir(class_path)\n",
        "    print(f\"Images in {first_class}:\", images)\n",
        "\n",
        "    # Select an image\n",
        "    if images:\n",
        "        image_path = os.path.join(class_path, images[0])\n",
        "        print(\"Using this image for prediction:\", image_path)\n",
        "    else:\n",
        "        print(f\"No images found in {class_path}\")\n",
        "else:\n",
        "    print(\"No class folders found in dataset path!\")\n"
      ],
      "metadata": {
        "colab": {
          "base_uri": "https://localhost:8080/"
        },
        "id": "gX5z1jWkRJb4",
        "outputId": "a8c9e1eb-73a4-4b39-ebaa-29e7bbcc95f8"
      },
      "execution_count": 26,
      "outputs": [
        {
          "output_type": "stream",
          "name": "stdout",
          "text": [
            "Available classes: ['Paper', 'Food Organics', 'Miscellaneous Trash', 'Mixed', 'Plastic', 'Rubber', 'Textile', 'Cardboard', 'Glass', 'Vegetation', 'Porcelain', 'Metal']\n",
            "Images in Paper: ['paper255_211.jpg', 'paper122_123.jpg', 'Paper_302_579.jpg', 'paper538_742.jpg', 'paper25_17.jpg', 'paper466_281.jpg', 'paper382_29.jpg', 'Paper_368_624.jpg', 'paper335_438.jpg', 'Paper_493_824.jpg', 'Miscellaneous Trash_137_612.jpg', 'paper302_303.jpg', 'Paper_441_804.jpg', 'Paper_247_712.jpg', 'Miscellaneous Trash_488_386.jpg', 'Paper_318_241.jpg', 'Paper_390_75.jpg', 'Paper_157_606.jpg', 'Paper_497_297.jpg', 'Paper_310_482.jpg', 'paper581_871.jpg', 'trash17_168.jpg', 'Paper_152_393.jpg', 'Paper_282_807.jpg', 'Paper_18_621.jpg', 'trash135_767.jpg', 'Paper_471_162.jpg', 'Paper_351_734.jpg', 'paper252_195.jpg', 'paper529_459.jpg', 'Paper_455_410.jpg', 'Paper_273_442.jpg', 'Paper_224_223.jpg', 'Paper_374_36.jpg', 'paper282_309.jpg', 'paper585_206.jpg', 'Paper_153_709.jpg', 'paper119_678.jpg', 'Paper_351_460.jpg', 'Paper_133_777.jpg', 'Paper_140_413.jpg', 'paper271_135.jpg', 'Paper_489_218.jpg', 'Paper_425_90.jpg', 'Paper_407_4.jpg', 'Paper_292_502.jpg', 'Paper_245_633.jpg', 'paper100_695.jpg', 'paper355_194.jpg', 'Paper_317_319.jpg', 'Paper_285_361.jpg', 'paper24_463.jpg', 'paper309_231.jpg', 'Paper_66_331.jpg', 'paper31_743.jpg', 'Paper_101_43.jpg', 'Paper_152_581.jpg', 'paper447_259.jpg', 'paper348_359.jpg', 'Paper_70_868.jpg', 'Paper_103_202.jpg', 'Paper_177_726.jpg', 'paper259_862.jpg', 'paper225_103.jpg', 'Paper_489_308.jpg', 'paper82_685.jpg', 'Paper_342_838.jpg', 'paper387_291.jpg', 'paper366_321.jpg', 'paper38_249.jpg', 'paper258_203.jpg', 'paper345_343.jpg', 'Paper_484_344.jpg', 'Paper_75_753.jpg', 'Paper_333_769.jpg', 'Paper_245_691.jpg', 'paper265_58.jpg', 'paper285_68.jpg', 'paper498_622.jpg', 'paper473_473.jpg', 'Paper_87_516.jpg', 'paper4_523.jpg', 'paper5_276.jpg', 'Paper_304_494.jpg', 'paper563_750.jpg', 'paper372_648.jpg', 'paper464_673.jpg', 'Paper_130_338.jpg', 'Paper_397_422.jpg', 'paper553_274.jpg', 'paper211_479.jpg', 'paper540_199.jpg', 'Paper_458_782.jpg', 'Paper_280_365.jpg', 'paper382_784.jpg', 'paper243_869.jpg', 'paper521_243.jpg', 'Miscellaneous Trash_11_527.jpg', 'paper484_860.jpg', 'Paper_445_861.jpg', 'paper32_170.jpg', 'Paper_309_518.jpg', 'paper490_645.jpg', 'paper433_215.jpg', 'Paper_362_229.jpg', 'paper195_570.jpg', 'paper244_722.jpg', 'paper234_823.jpg', 'Paper_474_295.jpg', 'paper350_314.jpg', 'paper580_115.jpg', 'paper299_384.jpg', 'Paper_13_631.jpg', 'paper43_507.jpg', 'Paper_4_600.jpg', 'paper467_23.jpg', 'Paper_16_461.jpg', 'paper529_689.jpg', 'Paper_30_46.jpg', 'paper258_740.jpg', 'Paper_417_437.jpg', 'paper402_60.jpg', 'paper371_640.jpg', 'Paper_265_810.jpg', 'paper571_392.jpg', 'paper564_803.jpg', 'Paper_170_76.jpg', 'Paper_197_477.jpg', 'paper347_333.jpg', 'paper569_63.jpg', 'Paper_372_292.jpg', 'Paper_346_86.jpg', 'Paper_334_719.jpg', 'paper254_84.jpg', 'paper149_248.jpg', 'Paper_131_797.jpg', 'paper439_744.jpg', 'paper547_480.jpg', 'paper509_255.jpg', 'Paper_292_222.jpg', 'paper453_126.jpg', 'paper40_139.jpg', 'paper376_620.jpg', 'Paper_429_506.jpg', 'Paper_266_82.jpg', 'paper488_279.jpg', 'paper588_353.jpg', 'Paper_458_0.jpg', 'Paper_415_57.jpg', 'Paper_447_536.jpg', 'paper189_441.jpg', 'Paper_384_851.jpg', 'paper466_531.jpg', 'paper214_541.jpg', 'Paper_390_42.jpg', 'Paper_129_8.jpg', 'paper216_772.jpg', 'Paper_289_113.jpg', 'Paper_323_236.jpg', 'Paper_384_504.jpg', 'Paper_170_554.jpg', 'paper275_710.jpg', 'Paper_150_694.jpg', 'paper223_426.jpg', 'Paper_479_822.jpg', 'paper320_602.jpg', 'paper290_517.jpg', 'Paper_353_609.jpg', 'Paper_400_415.jpg', 'Paper_207_61.jpg', 'paper395_172.jpg', 'paper241_65.jpg', 'paper149_55.jpg', 'paper576_296.jpg', 'Paper_245_637.jpg', 'Paper_236_154.jpg', 'paper140_449.jpg', 'paper75_521.jpg', 'Paper_169_213.jpg', 'paper386_849.jpg', 'paper380_306.jpg', 'Paper_487_174.jpg', 'paper427_114.jpg', 'paper73_256.jpg', 'paper108_478.jpg', 'Paper_142_409.jpg', 'paper63_455.jpg', 'Paper_7_644.jpg', 'Miscellaneous Trash_349_49.jpg', 'paper404_382.jpg', 'Miscellaneous Trash_162_260.jpg', 'paper526_429.jpg', 'paper15_219.jpg', 'Paper_395_829.jpg', 'paper215_646.jpg', 'Paper_61_766.jpg', 'paper49_841.jpg', 'Paper_137_466.jpg', 'paper242_873.jpg', 'paper245_467.jpg', 'Paper_287_813.jpg', 'Paper_341_837.jpg', 'paper532_818.jpg', 'Paper_202_583.jpg', 'paper371_119.jpg', 'Paper_391_587.jpg', 'paper179_576.jpg', 'paper460_617.jpg', 'paper457_423.jpg', 'trash8_629.jpg', 'Paper_496_124.jpg', 'Paper_363_101.jpg', 'Paper_109_261.jpg', 'paper132_462.jpg', 'Paper_101_98.jpg', 'Paper_217_18.jpg', 'paper355_254.jpg', 'Paper_128_451.jpg', 'paper14_794.jpg', 'paper167_244.jpg', 'Paper_233_448.jpg', 'paper143_632.jpg', 'paper386_158.jpg', 'Paper_338_486.jpg', 'paper274_5.jpg', 'paper427_626.jpg', 'paper51_641.jpg', 'paper409_752.jpg', 'paper521_618.jpg', 'paper548_122.jpg', 'Paper_182_51.jpg', 'Paper_458_793.jpg', 'paper9_367.jpg', 'paper432_112.jpg', 'Paper_472_575.jpg', 'paper401_272.jpg', 'paper268_786.jpg', 'paper189_496.jpg', 'paper550_858.jpg', 'Paper_382_827.jpg', 'paper222_214.jpg', 'paper138_833.jpg', 'paper426_625.jpg', 'paper175_856.jpg', 'Paper_286_87.jpg', 'Paper_273_785.jpg', 'trash5_425.jpg', 'paper516_290.jpg', 'paper136_258.jpg', 'paper109_635.jpg', 'Paper_7_173.jpg', 'paper95_763.jpg', 'paper315_876.jpg', 'Paper_185_227.jpg', 'paper466_706.jpg', 'paper112_558.jpg', 'Paper_349_74.jpg', 'Paper_291_775.jpg', 'Paper_264_253.jpg', 'Paper_239_835.jpg', 'paper143_424.jpg', 'Paper_402_312.jpg', 'paper556_33.jpg', 'paper594_360.jpg', 'paper567_596.jpg', 'paper474_733.jpg', 'paper43_385.jpg', 'Paper_459_562.jpg', 'paper465_675.jpg', 'paper232_265.jpg', 'Paper_34_728.jpg', 'paper282_737.jpg', 'paper450_136.jpg', 'paper402_864.jpg', 'paper235_751.jpg', 'paper259_446.jpg', 'Paper_242_580.jpg', 'Paper_87_555.jpg', 'Paper_312_95.jpg', 'Paper_184_335.jpg', 'Paper_309_155.jpg', 'Paper_250_183.jpg', 'paper373_201.jpg', 'paper145_498.jpg', 'Paper_72_512.jpg', 'paper343_104.jpg', 'paper301_604.jpg', 'Paper_473_672.jpg', 'Paper_300_287.jpg', 'paper318_191.jpg', 'Paper_30_109.jpg', 'paper92_651.jpg', 'Paper_457_704.jpg', 'Paper_394_681.jpg', 'Paper_194_592.jpg', 'paper56_611.jpg', 'paper149_513.jpg', 'paper353_356.jpg', 'Paper_490_639.jpg', 'Paper_349_589.jpg', 'Paper_181_732.jpg', 'Paper_82_599.jpg', 'trash136_285.jpg', 'paper348_339.jpg', 'Paper_222_368.jpg', 'Paper_227_573.jpg', 'Paper_148_275.jpg', 'paper530_246.jpg', 'paper78_54.jpg', 'Paper_183_52.jpg', 'paper64_182.jpg', 'paper295_853.jpg', 'paper452_788.jpg', 'Paper_389_762.jpg', 'paper345_698.jpg', 'Paper_439_147.jpg', 'Paper_375_3.jpg', 'paper456_597.jpg', 'Paper_93_204.jpg', 'Paper_176_830.jpg', 'Miscellaneous Trash_343_188.jpg', 'Paper_55_80.jpg', 'Paper_50_556.jpg', 'paper264_749.jpg', 'Paper_371_619.jpg', 'Paper_220_230.jpg', 'paper211_138.jpg', 'Paper_246_636.jpg', 'Paper_442_143.jpg', 'Paper_133_110.jpg', 'paper137_593.jpg', 'Miscellaneous Trash_344_796.jpg', 'Paper_54_156.jpg', 'paper208_269.jpg', 'Paper_377_594.jpg', 'paper87_760.jpg', 'paper508_371.jpg', 'paper211_186.jpg', 'Paper_124_387.jpg', 'paper197_716.jpg', 'paper325_407.jpg', 'paper221_332.jpg', 'Paper_419_684.jpg', 'Paper_98_817.jpg', 'Paper_310_718.jpg', 'Paper_82_443.jpg', 'paper411_130.jpg', 'paper553_389.jpg', 'paper371_550.jpg', 'paper305_452.jpg', 'paper311_792.jpg', 'Paper_355_398.jpg', 'Paper_249_44.jpg', 'paper187_370.jpg', 'paper154_543.jpg', 'paper273_708.jpg', 'paper293_549.jpg', 'paper53_217.jpg', 'Miscellaneous Trash_413_499.jpg', 'paper589_270.jpg', 'paper126_428.jpg', 'Paper_349_787.jpg', 'paper32_40.jpg', 'paper415_623.jpg', 'paper454_220.jpg', 'paper473_34.jpg', 'paper477_341.jpg', 'Paper_466_468.jpg', 'Paper_95_756.jpg', 'Miscellaneous Trash_345_608.jpg', 'paper495_175.jpg', 'paper592_855.jpg', 'paper465_177.jpg', 'paper490_226.jpg', 'paper163_228.jpg', 'paper233_412.jpg', 'paper12_350.jpg', 'paper324_25.jpg', 'paper142_192.jpg', 'paper542_454.jpg', 'Paper_401_97.jpg', 'paper120_811.jpg', 'paper340_336.jpg', 'paper63_877.jpg', 'Paper_323_235.jpg', 'paper487_525.jpg', 'Paper_495_505.jpg', 'paper186_721.jpg', 'Paper_2_30.jpg', 'paper500_411.jpg', 'paper333_106.jpg', 'Paper_5_225.jpg', 'paper517_870.jpg', 'Paper_45_819.jpg', 'paper114_404.jpg', 'Paper_409_798.jpg', 'paper234_702.jpg', 'paper297_342.jpg', 'paper516_187.jpg', 'paper512_657.jpg', 'paper351_524.jpg', 'paper292_563.jpg', 'paper216_81.jpg', 'Paper_149_757.jpg', 'paper553_394.jpg', 'Paper_80_400.jpg', 'paper428_779.jpg', 'Paper_162_566.jpg', 'Paper_414_647.jpg', 'paper419_731.jpg', 'paper584_471.jpg', 'paper591_686.jpg', 'paper372_56.jpg', 'Miscellaneous Trash_342_305.jpg', 'Paper_79_435.jpg', 'Paper_166_132.jpg', 'paper545_208.jpg', 'paper592_362.jpg', 'paper6_163.jpg', 'paper35_50.jpg', 'paper414_180.jpg', 'paper102_149.jpg', 'Paper_258_770.jpg', 'Paper_3_141.jpg', 'Paper_492_520.jpg', 'Miscellaneous Trash_352_108.jpg', 'paper42_59.jpg', 'Paper_345_511.jpg', 'paper506_789.jpg', 'paper312_209.jpg', 'paper422_765.jpg', 'paper372_19.jpg', 'paper159_354.jpg', 'paper92_659.jpg', 'Paper_20_349.jpg', 'paper138_116.jpg', 'Paper_457_13.jpg', 'paper588_26.jpg', 'Paper_482_159.jpg', 'Paper_276_234.jpg', 'paper76_814.jpg', 'paper91_257.jpg', 'paper10_14.jpg', 'Paper_455_146.jpg', 'paper560_200.jpg', 'paper579_144.jpg', 'paper521_552.jpg', 'paper487_307.jpg', 'paper203_746.jpg', 'paper368_801.jpg', 'paper399_717.jpg', 'Paper_470_627.jpg', 'Paper_229_458.jpg', 'paper87_381.jpg', 'Miscellaneous Trash_296_662.jpg', 'Paper_280_548.jpg', 'Miscellaneous Trash_355_16.jpg', 'Paper_316_674.jpg', 'Paper_194_854.jpg', 'paper206_605.jpg', 'Paper_275_125.jpg', 'paper231_419.jpg', 'paper318_795.jpg', 'Paper_243_6.jpg', 'paper310_687.jpg', 'Paper_276_289.jpg', 'paper320_739.jpg', 'Paper_474_402.jpg', 'paper27_501.jpg', 'Paper_334_483.jpg', 'Paper_191_815.jpg', 'paper130_585.jpg', 'Paper_99_157.jpg', 'paper453_680.jpg', 'paper335_535.jpg', 'paper86_66.jpg', 'Paper_419_348.jpg', 'paper416_444.jpg', 'Paper_281_846.jpg', 'paper592_661.jpg', 'paper516_131.jpg', 'Miscellaneous Trash_138_456.jpg', 'Paper_163_844.jpg', 'Paper_435_607.jpg', 'Paper_421_357.jpg', 'Paper_166_327.jpg', 'paper256_538.jpg', 'paper175_355.jpg', 'paper158_232.jpg', 'paper409_485.jpg', 'paper453_630.jpg', 'paper220_334.jpg', 'Paper_396_372.jpg', 'paper422_519.jpg', 'Paper_155_251.jpg', 'paper280_420.jpg', 'trash8_300.jpg', 'Paper_262_487.jpg', 'paper102_313.jpg', 'paper235_764.jpg', 'paper459_379.jpg', 'paper544_237.jpg', 'Paper_499_133.jpg', 'Paper_153_867.jpg', 'paper29_262.jpg', 'trash8_391.jpg', 'Paper_211_430.jpg', 'paper466_628.jpg', 'paper368_293.jpg', 'Paper_199_758.jpg', 'Paper_495_326.jpg', 'paper321_92.jpg', 'Paper_386_340.jpg', 'Paper_371_828.jpg', 'Paper_118_164.jpg', 'Paper_196_7.jpg', 'Paper_464_806.jpg', 'paper178_707.jpg', 'paper136_582.jpg', 'Paper_158_528.jpg', 'Paper_160_665.jpg', 'Paper_178_328.jpg', 'Paper_72_857.jpg', 'paper511_669.jpg', 'Miscellaneous Trash_214_247.jpg', 'Paper_142_12.jpg', 'Paper_448_539.jpg', 'Paper_180_282.jpg', 'Miscellaneous Trash_342_542.jpg', 'Paper_367_598.jpg', 'Paper_484_181.jpg', 'Paper_327_137.jpg', 'paper286_464.jpg', 'Paper_89_273.jpg', 'Paper_293_723.jpg', 'paper377_277.jpg', 'Paper_40_140.jpg', 'paper174_127.jpg', 'paper581_836.jpg', 'paper108_848.jpg', 'Paper_214_532.jpg', 'Paper_226_783.jpg', 'Paper_133_212.jpg', 'paper531_522.jpg', 'paper506_484.jpg', 'Paper_146_469.jpg', 'paper117_529.jpg', 'paper23_178.jpg', 'Paper_440_161.jpg', 'paper481_866.jpg', 'paper331_705.jpg', 'Paper_262_129.jpg', 'Paper_287_169.jpg', 'Paper_376_417.jpg', 'Paper_282_197.jpg', 'paper551_825.jpg', 'Paper_179_390.jpg', 'Paper_399_99.jpg', 'paper440_720.jpg', 'Paper_59_547.jpg', 'Paper_358_475.jpg', 'Paper_162_736.jpg', 'Miscellaneous Trash_415_590.jpg', 'Paper_245_78.jpg', 'paper248_224.jpg', 'Paper_230_503.jpg', 'paper342_872.jpg', 'paper146_852.jpg', 'Paper_142_526.jpg', 'paper494_703.jpg', 'paper40_850.jpg', 'Paper_462_545.jpg', 'Paper_493_41.jpg', 'Paper_290_302.jpg', 'paper415_160.jpg', 'trash8_320.jpg', 'Paper_482_38.jpg', 'paper276_497.jpg', 'Paper_62_48.jpg', 'paper296_32.jpg', 'paper262_730.jpg', 'paper540_701.jpg', 'paper480_299.jpg', 'Paper_228_298.jpg', 'paper156_820.jpg', 'paper70_286.jpg', 'paper218_738.jpg', 'paper475_421.jpg', 'paper206_167.jpg', 'paper67_21.jpg', 'Paper_160_280.jpg', 'Paper_460_677.jpg', 'paper121_560.jpg', 'paper218_264.jpg', 'Paper_416_433.jpg', 'paper224_668.jpg', 'paper321_399.jpg', 'paper208_816.jpg', 'trash100_544.jpg', 'paper358_151.jpg', 'Paper_425_802.jpg', 'paper155_352.jpg', 'Paper_208_436.jpg', 'paper21_714.jpg', 'Paper_124_561.jpg', 'Paper_475_492.jpg', 'paper109_653.jpg', 'paper316_406.jpg', 'Paper_199_304.jpg', 'paper112_83.jpg', 'Paper_444_315.jpg', 'paper440_588.jpg', 'Paper_145_28.jpg', 'Paper_466_812.jpg', 'paper405_369.jpg', 'paper19_64.jpg', 'paper29_193.jpg', 'paper582_761.jpg', 'paper166_771.jpg', 'Paper_480_152.jpg', 'paper332_821.jpg', 'paper554_564.jpg', 'paper170_153.jpg', 'Paper_127_330.jpg', 'Paper_55_747.jpg', 'paper555_676.jpg', 'Paper_321_418.jpg', 'Paper_250_537.jpg', 'Paper_350_323.jpg', 'paper450_121.jpg', 'Paper_492_654.jpg', 'Paper_257_9.jpg', 'Paper_266_148.jpg', 'Paper_16_696.jpg', 'paper323_711.jpg', 'Paper_39_263.jpg', 'paper373_530.jpg', 'paper499_45.jpg', 'Paper_390_216.jpg', 'Paper_149_658.jpg', 'paper303_569.jpg', 'paper426_445.jpg', 'paper238_557.jpg', 'paper245_551.jpg', 'Paper_451_62.jpg', 'paper238_534.jpg', 'paper189_252.jpg', 'paper210_682.jpg', 'Paper_448_577.jpg', 'paper103_403.jpg', 'Paper_175_24.jpg', 'paper339_565.jpg', 'Paper_210_77.jpg', 'paper233_584.jpg', 'paper266_568.jpg', 'Paper_349_310.jpg', 'Paper_206_22.jpg', 'paper13_414.jpg', 'Paper_175_267.jpg', 'Paper_48_847.jpg', 'paper339_416.jpg', 'paper515_470.jpg', 'paper462_431.jpg', 'paper536_729.jpg', 'paper424_559.jpg', 'paper338_351.jpg', 'paper107_266.jpg', 'Paper_96_190.jpg', 'Paper_428_337.jpg', 'paper335_839.jpg', 'Paper_487_377.jpg', 'paper242_791.jpg', 'Paper_162_832.jpg', 'paper72_578.jpg', 'paper584_800.jpg', 'paper114_271.jpg', 'Paper_139_401.jpg', 'paper302_47.jpg', 'Paper_234_53.jpg', 'Paper_145_245.jpg', 'Paper_226_616.jpg', 'paper500_363.jpg', 'Paper_6_434.jpg', 'Miscellaneous Trash_50_71.jpg', 'paper252_179.jpg', 'paper50_2.jpg', 'paper552_439.jpg', 'Paper_238_546.jpg', 'Paper_421_500.jpg', 'Paper_411_111.jpg', 'paper512_283.jpg', 'Paper_302_242.jpg', 'Paper_435_690.jpg', 'Paper_492_238.jpg', 'Paper_457_474.jpg', 'Paper_132_472.jpg', 'paper378_755.jpg', 'paper346_37.jpg', 'Paper_318_693.jpg', 'Paper_417_120.jpg', 'paper93_20.jpg', 'Paper_278_240.jpg', 'Paper_260_347.jpg', 'paper309_67.jpg', 'paper78_397.jpg', 'paper531_27.jpg', 'paper522_799.jpg', 'Paper_150_210.jpg', 'Paper_88_176.jpg', 'paper375_476.jpg', 'Paper_158_453.jpg', 'Paper_388_383.jpg', 'Paper_461_699.jpg', 'Paper_388_408.jpg', 'paper533_39.jpg', 'Paper_193_88.jpg', 'paper236_198.jpg', 'Paper_419_493.jpg', 'Paper_382_727.jpg', 'Paper_29_322.jpg', 'paper257_514.jpg', 'paper275_748.jpg', 'Paper_126_346.jpg', 'Paper_90_89.jpg', 'paper208_142.jpg', 'paper264_171.jpg', 'paper485_660.jpg', 'paper234_831.jpg', 'Paper_158_533.jpg', 'paper18_96.jpg', 'paper279_301.jpg', 'paper52_805.jpg', 'Paper_170_102.jpg', 'paper306_395.jpg', 'Paper_298_205.jpg', 'Paper_299_288.jpg', 'Paper_155_510.jpg', 'paper329_715.jpg', 'paper154_515.jpg', 'paper303_324.jpg', 'paper544_571.jpg', 'Paper_125_540.jpg', 'paper381_567.jpg', 'paper422_491.jpg', 'paper177_345.jpg', 'paper512_591.jpg', 'paper227_781.jpg', 'Paper_10_184.jpg', 'trash16_94.jpg', 'Paper_272_105.jpg', 'Paper_79_450.jpg', 'Paper_363_508.jpg', 'paper446_724.jpg', 'Paper_295_754.jpg', 'Paper_498_165.jpg', 'paper41_69.jpg', 'paper502_85.jpg', 'paper252_745.jpg', 'paper443_100.jpg', 'Paper_258_834.jpg', 'Paper_370_741.jpg', 'Paper_54_845.jpg', 'paper564_284.jpg', 'paper540_759.jpg', 'paper377_239.jpg', 'paper372_378.jpg', 'paper89_73.jpg', 'Paper_273_196.jpg', 'Paper_65_91.jpg', 'paper322_553.jpg', 'Paper_435_667.jpg', 'Paper_73_358.jpg', 'Paper_406_809.jpg', 'paper24_432.jpg', 'Paper_436_664.jpg', 'paper181_93.jpg', 'Paper_242_481.jpg', 'Paper_174_107.jpg', 'paper275_457.jpg', 'Paper_51_440.jpg', 'paper552_842.jpg', 'Paper_41_128.jpg', 'paper136_150.jpg', 'paper144_427.jpg', 'paper45_725.jpg', 'paper449_364.jpg', 'paper427_692.jpg', 'Paper_301_376.jpg', 'paper181_145.jpg', 'paper171_294.jpg', 'paper594_405.jpg', 'Paper_115_859.jpg', 'Paper_27_72.jpg', 'paper26_840.jpg', 'Paper_110_380.jpg', 'Paper_190_35.jpg', 'paper55_318.jpg', 'paper519_610.jpg', 'paper263_465.jpg', 'Paper_214_447.jpg', 'Paper_145_614.jpg', 'paper182_683.jpg', 'paper534_697.jpg', 'Paper_379_655.jpg', 'paper390_875.jpg', 'paper536_118.jpg', 'paper478_10.jpg', 'Miscellaneous Trash_136_134.jpg', 'paper380_278.jpg', 'Paper_332_863.jpg', 'Paper_112_325.jpg', 'Paper_490_375.jpg', 'Paper_125_790.jpg', 'Paper_133_490.jpg', 'Miscellaneous Trash_45_670.jpg', 'paper208_586.jpg', 'paper348_874.jpg', 'Paper_227_652.jpg', 'Paper_491_366.jpg', 'Miscellaneous Trash_11_329.jpg', 'Paper_302_268.jpg', 'Paper_54_663.jpg', 'Paper_288_865.jpg', 'paper425_638.jpg', 'paper5_1.jpg', 'Paper_474_773.jpg', 'Paper_198_603.jpg', 'paper485_166.jpg', 'paper444_843.jpg', 'Paper_110_207.jpg', 'Paper_443_776.jpg', 'trash8_489.jpg', 'Paper_180_31.jpg', 'paper349_774.jpg', 'paper370_601.jpg', 'paper517_488.jpg', 'Paper_187_70.jpg', 'paper64_317.jpg', 'paper71_671.jpg', 'Paper_120_650.jpg', 'paper549_509.jpg', 'Paper_282_666.jpg', 'paper67_808.jpg', 'paper408_189.jpg', 'paper458_185.jpg', 'paper371_634.jpg', 'paper496_826.jpg', 'trash137_79.jpg', 'Paper_357_780.jpg', 'Paper_388_15.jpg', 'paper417_688.jpg', 'Paper_464_396.jpg', 'paper308_117.jpg', 'paper33_778.jpg', 'paper451_613.jpg', 'Paper_422_649.jpg', 'Paper_79_316.jpg', 'Paper_248_768.jpg', 'paper158_374.jpg', 'Paper_170_311.jpg', 'paper531_373.jpg', 'paper590_11.jpg', 'paper249_615.jpg', 'Paper_181_643.jpg', 'Paper_91_679.jpg', 'Paper_132_656.jpg', 'paper99_700.jpg', 'paper229_735.jpg', 'paper220_595.jpg', 'Miscellaneous Trash_405_642.jpg', 'Paper_256_572.jpg', 'paper434_233.jpg', 'paper4_495.jpg', 'Paper_290_388.jpg', 'paper203_574.jpg', 'Paper_63_713.jpg', 'Paper_371_250.jpg', 'Paper_347_221.jpg']\n",
            "Using this image for prediction: /root/.cache/kagglehub/datasets/reyhanwiranugraha/real-image-dataset/versions/2/Real-Image-dataset_balanced/balanced/Paper/paper255_211.jpg\n"
          ]
        }
      ]
    },
    {
      "cell_type": "code",
      "source": [
        "import os\n",
        "import numpy as np\n",
        "import tensorflow as tf\n",
        "from tensorflow.keras.preprocessing.image import load_img, img_to_array"
      ],
      "metadata": {
        "id": "RNK4HSSERLIr"
      },
      "execution_count": 27,
      "outputs": []
    },
    {
      "cell_type": "code",
      "source": [
        "class_labels = classes\n",
        "\n",
        "# Load the saved model\n",
        "loaded_model = tf.keras.models.load_model('recycling_model.keras')\n",
        "\n",
        "# Prediction function\n",
        "def predict_image(image_path):\n",
        "    img = load_img(image_path, target_size=(224, 224))  # Resize to model input size\n",
        "    img_array = img_to_array(img)\n",
        "    img_array = np.expand_dims(img_array, axis=0)  # Convert to batch format\n",
        "    img_array = img_array / 255.0  # Normalize\n",
        "\n",
        "    predictions = loaded_model.predict(img_array)\n",
        "    predicted_class_index = np.argmax(predictions)  # Get index of highest probability\n",
        "    detected_class = class_labels[predicted_class_index]  # Map to class name\n",
        "\n",
        "    return detected_class"
      ],
      "metadata": {
        "id": "JHIYRNncSNgb"
      },
      "execution_count": 28,
      "outputs": []
    },
    {
      "cell_type": "code",
      "source": [
        "image_path = \"/root/.cache/kagglehub/datasets/reyhanwiranugraha/real-image-dataset/versions/2/Real-Image-dataset_balanced/balanced/Paper/paper220_595.jpg\"\n",
        "predicted_class = predict_image(image_path)\n",
        "print(f\"Detected Class: {predicted_class}\")"
      ],
      "metadata": {
        "colab": {
          "base_uri": "https://localhost:8080/"
        },
        "id": "D7uXdWrrSQYM",
        "outputId": "1b05ce17-e9f5-4384-def4-bca7c292b331"
      },
      "execution_count": 30,
      "outputs": [
        {
          "output_type": "stream",
          "name": "stdout",
          "text": [
            "\u001b[1m1/1\u001b[0m \u001b[32m━━━━━━━━━━━━━━━━━━━━\u001b[0m\u001b[37m\u001b[0m \u001b[1m0s\u001b[0m 122ms/step\n",
            "Detected Class: Textile\n"
          ]
        }
      ]
    },
    {
      "cell_type": "code",
      "source": [],
      "metadata": {
        "id": "sjf1yK9mS69i"
      },
      "execution_count": null,
      "outputs": []
    }
  ]
}